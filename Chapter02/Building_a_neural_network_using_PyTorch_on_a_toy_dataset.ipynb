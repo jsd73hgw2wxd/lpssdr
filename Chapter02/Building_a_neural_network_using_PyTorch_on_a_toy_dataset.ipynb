{
  "nbformat": 4,
  "nbformat_minor": 0,
  "metadata": {
    "colab": {
      "name": "Building_a_neural_network_using_PyTorch_on_a_toy_dataset.ipynb",
      "provenance": [],
      "gpuType": "T4",
      "include_colab_link": true
    },
    "kernelspec": {
      "display_name": "Python 3",
      "name": "python3"
    },
    "language_info": {
      "codemirror_mode": {
        "name": "ipython",
        "version": 3
      },
      "file_extension": ".py",
      "mimetype": "text/x-python",
      "name": "python",
      "nbconvert_exporter": "python",
      "pygments_lexer": "ipython3",
      "version": "3.7.6"
    },
    "accelerator": "GPU"
  },
  "cells": [
    {
      "cell_type": "markdown",
      "metadata": {
        "id": "view-in-github",
        "colab_type": "text"
      },
      "source": [
        "<a href=\"https://colab.research.google.com/github/jsd73hgw2wxd/lpssdr/blob/main/Chapter02/Building_a_neural_network_using_PyTorch_on_a_toy_dataset.ipynb\" target=\"_parent\"><img src=\"https://colab.research.google.com/assets/colab-badge.svg\" alt=\"Open In Colab\"/></a>"
      ]
    },
    {
      "cell_type": "code",
      "metadata": {
        "ExecuteTime": {
          "end_time": "2020-09-25T19:37:27.437450Z",
          "start_time": "2020-09-25T19:37:27.143217Z"
        },
        "id": "e1gtGb85daHv"
      },
      "source": [
        "import torch\n",
        "x = [[1,2],[3,4],[5,6],[7,8]]\n",
        "y = [[3],[7],[11],[15]]"
      ],
      "execution_count": 1,
      "outputs": []
    },
    {
      "cell_type": "code",
      "metadata": {
        "ExecuteTime": {
          "end_time": "2020-09-25T19:37:27.440914Z",
          "start_time": "2020-09-25T19:37:27.438557Z"
        },
        "id": "ZaYGlxtQdbd1"
      },
      "source": [
        "X = torch.tensor(x).float()\n",
        "Y = torch.tensor(y).float()"
      ],
      "execution_count": 2,
      "outputs": []
    },
    {
      "cell_type": "code",
      "metadata": {
        "ExecuteTime": {
          "end_time": "2020-09-25T19:37:29.527549Z",
          "start_time": "2020-09-25T19:37:27.442428Z"
        },
        "id": "q5DT95H_dcwi"
      },
      "source": [
        "device = 'cuda' if torch.cuda.is_available() else 'cpu'\n",
        "X = X.to(device)\n",
        "Y = Y.to(device)"
      ],
      "execution_count": 3,
      "outputs": []
    },
    {
      "cell_type": "code",
      "source": [
        "print(device)"
      ],
      "metadata": {
        "id": "UyBtF-lfOk_G",
        "outputId": "05bd4370-8eb7-4a55-8f63-0f8e834f45a9",
        "colab": {
          "base_uri": "https://localhost:8080/"
        }
      },
      "execution_count": 4,
      "outputs": [
        {
          "output_type": "stream",
          "name": "stdout",
          "text": [
            "cuda\n"
          ]
        }
      ]
    },
    {
      "cell_type": "code",
      "metadata": {
        "ExecuteTime": {
          "end_time": "2020-09-25T19:37:29.530750Z",
          "start_time": "2020-09-25T19:37:29.528696Z"
        },
        "id": "rHq7VwgDdeJ-"
      },
      "source": [
        "import torch.nn as nn"
      ],
      "execution_count": 5,
      "outputs": []
    },
    {
      "cell_type": "code",
      "metadata": {
        "ExecuteTime": {
          "end_time": "2020-09-25T19:37:29.535567Z",
          "start_time": "2020-09-25T19:37:29.531890Z"
        },
        "id": "clpig_05dfYK"
      },
      "source": [
        "class MyNeuralNet(nn.Module):\n",
        "    def __init__(self):\n",
        "        super().__init__()\n",
        "        self.input_to_hidden_layer = nn.Linear(2,8)\n",
        "        self.hidden_layer_activation = nn.ReLU()\n",
        "        self.hidden_to_output_layer = nn.Linear(8,1)\n",
        "    def forward(self, x):\n",
        "        x = self.input_to_hidden_layer(x)\n",
        "        x = self.hidden_layer_activation(x)\n",
        "        x = self.hidden_to_output_layer(x)\n",
        "        return x"
      ],
      "execution_count": 6,
      "outputs": []
    },
    {
      "cell_type": "code",
      "metadata": {
        "ExecuteTime": {
          "end_time": "2020-09-25T19:37:29.540168Z",
          "start_time": "2020-09-25T19:37:29.536723Z"
        },
        "id": "McmLsQstdnxr"
      },
      "source": [
        "mynet = MyNeuralNet().to(device)"
      ],
      "execution_count": 7,
      "outputs": []
    },
    {
      "cell_type": "code",
      "metadata": {
        "ExecuteTime": {
          "end_time": "2020-09-25T19:37:29.544857Z",
          "start_time": "2020-09-25T19:37:29.541272Z"
        },
        "id": "8cyG-B-AdoBB"
      },
      "source": [
        "loss_func = nn.MSELoss()"
      ],
      "execution_count": 8,
      "outputs": []
    },
    {
      "cell_type": "code",
      "metadata": {
        "ExecuteTime": {
          "end_time": "2020-09-25T19:37:29.554504Z",
          "start_time": "2020-09-25T19:37:29.546221Z"
        },
        "id": "QRTf8vdKdqmP",
        "outputId": "28e51902-c2f7-4518-cd49-ad058132f430",
        "colab": {
          "base_uri": "https://localhost:8080/"
        }
      },
      "source": [
        "_Y = mynet(X)\n",
        "loss_value = loss_func(_Y,Y)\n",
        "print(loss_value)"
      ],
      "execution_count": 9,
      "outputs": [
        {
          "output_type": "stream",
          "name": "stdout",
          "text": [
            "tensor(90.2995, device='cuda:0', grad_fn=<MseLossBackward0>)\n"
          ]
        }
      ]
    },
    {
      "cell_type": "code",
      "metadata": {
        "ExecuteTime": {
          "end_time": "2020-09-25T19:37:29.558932Z",
          "start_time": "2020-09-25T19:37:29.555392Z"
        },
        "id": "dTOdsvFydsQK"
      },
      "source": [
        "from torch.optim import SGD\n",
        "opt = SGD(mynet.parameters(), lr = 0.001)"
      ],
      "execution_count": 10,
      "outputs": []
    },
    {
      "cell_type": "code",
      "metadata": {
        "ExecuteTime": {
          "end_time": "2020-09-25T19:37:29.588488Z",
          "start_time": "2020-09-25T19:37:29.560089Z"
        },
        "id": "xyHCZwfYduGO"
      },
      "source": [
        "loss_history = []\n",
        "for _ in range(50):\n",
        "    opt.zero_grad()\n",
        "    loss_value = loss_func(mynet(X),Y)\n",
        "    loss_value.backward()\n",
        "    opt.step()\n",
        "    loss_history.append(loss_value.item())"
      ],
      "execution_count": 11,
      "outputs": []
    },
    {
      "cell_type": "code",
      "metadata": {
        "ExecuteTime": {
          "end_time": "2020-09-25T19:37:29.838987Z",
          "start_time": "2020-09-25T19:37:29.589467Z"
        },
        "id": "DiO6I53udwvY",
        "outputId": "d0d04b85-057a-4d62-ffa4-7282c48cdfe4",
        "colab": {
          "base_uri": "https://localhost:8080/",
          "height": 489
        }
      },
      "source": [
        "import matplotlib.pyplot as plt\n",
        "%matplotlib inline\n",
        "plt.plot(loss_history)\n",
        "plt.title('Loss variation over increasing epochs')\n",
        "plt.xlabel('epochs')\n",
        "plt.ylabel('loss value')"
      ],
      "execution_count": 12,
      "outputs": [
        {
          "output_type": "execute_result",
          "data": {
            "text/plain": [
              "Text(0, 0.5, 'loss value')"
            ]
          },
          "metadata": {},
          "execution_count": 12
        },
        {
          "output_type": "display_data",
          "data": {
            "text/plain": [
              "<Figure size 640x480 with 1 Axes>"
            ],
            "image/png": "[encoded data removed]"
          },
          "metadata": {}
        }
      ]
    },
    {
      "cell_type": "code",
      "metadata": {
        "id": "jmfHZmKXdyND"
      },
      "source": [],
      "execution_count": null,
      "outputs": []
    }
  ]
}